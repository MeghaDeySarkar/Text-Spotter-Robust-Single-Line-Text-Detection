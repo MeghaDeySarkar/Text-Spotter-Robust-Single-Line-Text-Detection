{
 "cells": [
  {
   "cell_type": "code",
   "execution_count": 4,
   "metadata": {},
   "outputs": [
    {
     "name": "stdout",
     "output_type": "stream",
     "text": [
      "Image Size: (160, 40)\n"
     ]
    }
   ],
   "source": [
    "from PIL import Image\n",
    "\n",
    "image_path = r\"D:\\Megha\\PPro\\NLP-projects-completed\\textdetectioninimage\\data\\data\\images\\00000009.jpg\"\n",
    "image = Image.open(image_path)\n",
    "\n",
    "image_size = image.size\n",
    "\n",
    "print(f\"Image Size: {image_size}\")\n"
   ]
  },
  {
   "cell_type": "code",
   "execution_count": 5,
   "metadata": {},
   "outputs": [
    {
     "name": "stdout",
     "output_type": "stream",
     "text": [
      "Original Image Size: (151, 42)\n",
      "Resized Image Size: (160, 40)\n"
     ]
    }
   ],
   "source": [
    "from PIL import Image\n",
    "\n",
    "image_path = r\"D:\\Megha\\PPro\\NLP-projects-completed\\textdetectioninimage\\Capture.PNG\"\n",
    "image = Image.open(image_path)\n",
    "\n",
    "resized_image = image.resize((160, 40))\n",
    "\n",
    "resized_image.save(r\"D:\\Megha\\PPro\\NLP-projects-completed\\textdetectioninimage\\Capture1.PNG\")\n",
    "\n",
    "print(f\"Original Image Size: {image.size}\")\n",
    "print(f\"Resized Image Size: {resized_image.size}\")\n"
   ]
  }
 ],
 "metadata": {
  "kernelspec": {
   "display_name": "textdet",
   "language": "python",
   "name": "python3"
  },
  "language_info": {
   "codemirror_mode": {
    "name": "ipython",
    "version": 3
   },
   "file_extension": ".py",
   "mimetype": "text/x-python",
   "name": "python",
   "nbconvert_exporter": "python",
   "pygments_lexer": "ipython3",
   "version": "3.9.18"
  }
 },
 "nbformat": 4,
 "nbformat_minor": 2
}
