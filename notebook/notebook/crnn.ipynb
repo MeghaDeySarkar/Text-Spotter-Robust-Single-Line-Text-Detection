{
 "cells": [
  {
   "cell_type": "code",
   "execution_count": 35,
   "id": "ccb2cf57",
   "metadata": {},
   "outputs": [],
   "source": [
    "import os\n",
    "import cv2\n",
    "import torch\n",
    "import config\n",
    "import pickle\n",
    "import numpy as np\n",
    "import pandas as pd\n",
    "import torch.nn as nn\n",
    "import albumentations\n",
    "import matplotlib.pyplot as plt\n",
    "\n",
    "from tqdm import tqdm\n",
    "from sklearn.model_selection import train_test_split\n",
    "%matplotlib inline"
   ]
  },
  {
   "cell_type": "code",
   "execution_count": 36,
   "id": "44934029",
   "metadata": {},
   "outputs": [],
   "source": [
    "import torch.nn as nn\n",
    "\n",
    "\n",
    "class ConvRNN(nn.Module):\n",
    "\n",
    "    def __init__(self, n_classes):\n",
    "        \"\"\"\n",
    "        :param n_classes: number of unique characters in the dataset\n",
    "        \"\"\"\n",
    "        super(ConvRNN, self).__init__()\n",
    "\n",
    "        self.relu = nn.LeakyReLU(0.2, inplace=True)\n",
    "\n",
    "        self.conv_1 = nn.Conv2d(3, 64, kernel_size=3, padding=1)\n",
    "        self.bn_1 = nn.BatchNorm2d(64)\n",
    "        self.pool_1 = nn.MaxPool2d((2, 2))\n",
    "\n",
    "        self.conv_2 = nn.Conv2d(64, 128, kernel_size=3, padding=1)\n",
    "        self.bn_2 = nn.BatchNorm2d(128)\n",
    "        self.pool_2 = nn.MaxPool2d((2, 2))\n",
    "\n",
    "        self.conv_3 = nn.Conv2d(128, 256, kernel_size=3, padding=1)\n",
    "        self.bn_3 = nn.BatchNorm2d(256)\n",
    "\n",
    "        self.conv_4 = nn.Conv2d(256, 256, kernel_size=3, padding=1)\n",
    "        self.bn_4 = nn.BatchNorm2d(256)\n",
    "        self.pool_4 = nn.MaxPool2d((2, 1))\n",
    "\n",
    "        self.conv_5 = nn.Conv2d(256, 512, kernel_size=3, padding=1)\n",
    "        self.bn_5 = nn.BatchNorm2d(512)\n",
    "\n",
    "        self.conv_6 = nn.Conv2d(512, 512, kernel_size=3, padding=1)\n",
    "        self.bn_6 = nn.BatchNorm2d(512)\n",
    "        self.pool_6 = nn.MaxPool2d((2, 1))\n",
    "\n",
    "        self.conv_7 = nn.Conv2d(512, 512, kernel_size=3, padding=1)\n",
    "        self.bn_7 = nn.BatchNorm2d(512)\n",
    "\n",
    "        self.linear_1 = nn.Linear(1024, 64)\n",
    "        self.linear_2 = nn.Linear(64, 64)\n",
    "\n",
    "        self.rnn_1 = nn.GRU(64, 128, num_layers=2,\n",
    "                            bidirectional=True,\n",
    "                            dropout=0.25,\n",
    "                            batch_first=True)\n",
    "        self.rnn_2 = nn.GRU(256, 64, num_layers=2,\n",
    "                            bidirectional=True,\n",
    "                            dropout=0.25,\n",
    "                            batch_first=True)\n",
    "\n",
    "        self.dense = nn.Linear(128, n_classes + 1)\n",
    "\n",
    "    def forward(self, images):\n",
    "        x = self.conv_1(images)\n",
    "        x = self.bn_1(x)\n",
    "        x = self.relu(x)\n",
    "        x = self.pool_1(x)\n",
    "\n",
    "        x = self.conv_2(x)\n",
    "        x = self.bn_2(x)\n",
    "        x = self.relu(x)\n",
    "        x = self.pool_2(x)\n",
    "\n",
    "        x = self.conv_3(x)\n",
    "        x = self.bn_3(x)\n",
    "        x = self.relu(x)\n",
    "\n",
    "        x = self.conv_4(x)\n",
    "        x = self.bn_4(x)\n",
    "        x = self.relu(x)\n",
    "        x = self.pool_4(x)\n",
    "\n",
    "        x = self.conv_5(x)\n",
    "        x = self.bn_5(x)\n",
    "        x = self.relu(x)\n",
    "\n",
    "        x = self.conv_6(x)\n",
    "        x = self.bn_6(x)\n",
    "        x = self.relu(x)\n",
    "        x = self.pool_6(x)\n",
    "\n",
    "        x = self.conv_7(x)\n",
    "        x = self.bn_7(x)\n",
    "        x = self.relu(x)\n",
    "\n",
    "        x = x.view(-1, 512 * 2, 40)\n",
    "        x = x.permute(0, 2, 1)\n",
    "\n",
    "        x = self.linear_1(x)\n",
    "        x = self.relu(x)\n",
    "\n",
    "        x = self.linear_2(x)\n",
    "        x = self.relu(x)\n",
    "\n",
    "        x, _ = self.rnn_1(x)\n",
    "        x, _ = self.rnn_2(x)\n",
    "\n",
    "        x = self.dense(x)\n",
    "        return x\n"
   ]
  },
  {
   "cell_type": "code",
   "execution_count": 37,
   "id": "5be600aa",
   "metadata": {},
   "outputs": [],
   "source": [
    "import pickle\n",
    "\n",
    "\n",
    "def save_obj(obj, path):\n",
    "    with open(path, 'wb') as f:\n",
    "        pickle.dump(obj, f, pickle.HIGHEST_PROTOCOL)\n",
    "\n",
    "\n",
    "def load_obj(path):\n",
    "    with open(path, 'rb') as f:\n",
    "        return pickle.load(f)"
   ]
  },
  {
   "cell_type": "code",
   "execution_count": 38,
   "id": "ceccf879",
   "metadata": {},
   "outputs": [],
   "source": [
    "import cv2\n",
    "import torch\n",
    "import albumentations\n",
    "\n",
    "\n",
    "class TRSynthDataset(torch.utils.data.Dataset):\n",
    "\n",
    "    def __init__(self, data_file, char2int):\n",
    "        \"\"\"\n",
    "        :param data_file: pandas dataframe containing the image path and labels\n",
    "        :param char2int: dictionary mapping every character to an unique integer\n",
    "        \"\"\"\n",
    "        self.image_ids = list(data_file[\"images\"])\n",
    "        self.labels = list(data_file[\"labels\"])\n",
    "        self.char2int = char2int\n",
    "        mean = (0.485, 0.456, 0.406)\n",
    "        std = (0.229, 0.224, 0.225)\n",
    "        self.aug = albumentations.Compose(\n",
    "            [albumentations.Normalize(mean, std,\n",
    "                                      max_pixel_value=255.0,\n",
    "                                      always_apply=True)]\n",
    "        )\n",
    "        self.max_len = data_file[\"labels\"].apply(lambda x: len(x)).max()\n",
    "\n",
    "    def __len__(self):\n",
    "        return len(self.image_ids)\n",
    "\n",
    "    def __getitem__(self, idx):\n",
    "        # Get image id\n",
    "        img_id = self.image_ids[idx]\n",
    "        # Load the image\n",
    "        img = cv2.imread(img_id)\n",
    "        # Normalize the image\n",
    "        augmented = self.aug(image=img)\n",
    "        img = augmented['image']\n",
    "        # Bring channel first\n",
    "        img = img.transpose(2, 0, 1)\n",
    "        # Convert to torch tensor\n",
    "        img = torch.from_numpy(img)\n",
    "\n",
    "        # Get the labels\n",
    "        target = self.labels[idx]\n",
    "        # Convert characters to integers\n",
    "        target = [self.char2int[i] for i in target]\n",
    "        # Length of each target\n",
    "        target_len = torch.LongTensor([len(target)])\n",
    "        # Pad target with zeros to make sure every\n",
    "        # target has equal length\n",
    "        target += [0] * (self.max_len - len(target))\n",
    "        # Convert to torch tensor\n",
    "        target = torch.LongTensor(target)\n",
    "\n",
    "        return img, target, target_len\n"
   ]
  },
  {
   "cell_type": "code",
   "execution_count": 39,
   "id": "e3867335",
   "metadata": {},
   "outputs": [],
   "source": [
    "epochs = config.epochs\n",
    "batch_size = config.batch_size\n",
    "model_path = config.model_path\n",
    "char2int_path = config.char2int_path\n",
    "int2char_path = config.int2char_path\n",
    "data_file_path = config.data_file_path\n",
    "image_path = config.image_path\n",
    "label_path = config.label_path"
   ]
  },
  {
   "cell_type": "code",
   "execution_count": 40,
   "id": "43966f00",
   "metadata": {},
   "outputs": [
    {
     "data": {
      "text/plain": [
       "'D:\\\\Megha\\\\PPro\\\\textdetectioninimage\\\\data\\\\data\\\\images'"
      ]
     },
     "execution_count": 40,
     "metadata": {},
     "output_type": "execute_result"
    }
   ],
   "source": [
    "image_path"
   ]
  },
  {
   "cell_type": "markdown",
   "id": "247447b6",
   "metadata": {},
   "source": [
    "### Inspect some images"
   ]
  },
  {
   "cell_type": "code",
   "execution_count": 41,
   "id": "92de90d8",
   "metadata": {},
   "outputs": [
    {
     "data": {
      "image/png": "[encoded data removed]",
      "text/plain": [
       "<Figure size 640x480 with 1 Axes>"
      ]
     },
     "metadata": {},
     "output_type": "display_data"
    }
   ],
   "source": [
    "img = plt.imread(os.path.join(image_path,\"00000018.jpg\"))\n",
    "plt.imshow(img)\n",
    "plt.show()"
   ]
  },
  {
   "cell_type": "markdown",
   "id": "1c3248d9",
   "metadata": {},
   "source": [
    "### Check corresponding label"
   ]
  },
  {
   "cell_type": "code",
   "execution_count": 42,
   "id": "1876e18b",
   "metadata": {},
   "outputs": [],
   "source": [
    "labels = pd.read_table(label_path, header=None)"
   ]
  },
  {
   "cell_type": "code",
   "execution_count": 43,
   "id": "97964bf4",
   "metadata": {},
   "outputs": [
    {
     "data": {
      "text/html": [
       "<div>\n",
       "<style scoped>\n",
       "    .dataframe tbody tr th:only-of-type {\n",
       "        vertical-align: middle;\n",
       "    }\n",
       "\n",
       "    .dataframe tbody tr th {\n",
       "        vertical-align: top;\n",
       "    }\n",
       "\n",
       "    .dataframe thead th {\n",
       "        text-align: right;\n",
       "    }\n",
       "</style>\n",
       "<table border=\"1\" class=\"dataframe\">\n",
       "  <thead>\n",
       "    <tr style=\"text-align: right;\">\n",
       "      <th></th>\n",
       "      <th>0</th>\n",
       "    </tr>\n",
       "  </thead>\n",
       "  <tbody>\n",
       "    <tr>\n",
       "      <th>0</th>\n",
       "      <td>life</td>\n",
       "    </tr>\n",
       "    <tr>\n",
       "      <th>1</th>\n",
       "      <td>not</td>\n",
       "    </tr>\n",
       "    <tr>\n",
       "      <th>2</th>\n",
       "      <td>while</td>\n",
       "    </tr>\n",
       "    <tr>\n",
       "      <th>3</th>\n",
       "      <td>know</td>\n",
       "    </tr>\n",
       "    <tr>\n",
       "      <th>4</th>\n",
       "      <td>clearly</td>\n",
       "    </tr>\n",
       "  </tbody>\n",
       "</table>\n",
       "</div>"
      ],
      "text/plain": [
       "         0\n",
       "0     life\n",
       "1      not\n",
       "2    while\n",
       "3     know\n",
       "4  clearly"
      ]
     },
     "execution_count": 43,
     "metadata": {},
     "output_type": "execute_result"
    }
   ],
   "source": [
    "labels.head()"
   ]
  },
  {
   "cell_type": "code",
   "execution_count": 44,
   "id": "f9e03d58",
   "metadata": {},
   "outputs": [
    {
     "data": {
      "text/plain": [
       "'Update'"
      ]
     },
     "execution_count": 44,
     "metadata": {},
     "output_type": "execute_result"
    }
   ],
   "source": [
    "labels.iloc[18,0]"
   ]
  },
  {
   "cell_type": "code",
   "execution_count": 45,
   "id": "5be877db",
   "metadata": {},
   "outputs": [
    {
     "data": {
      "text/plain": [
       "(100000, 1)"
      ]
     },
     "execution_count": 45,
     "metadata": {},
     "output_type": "execute_result"
    }
   ],
   "source": [
    "labels.shape"
   ]
  },
  {
   "cell_type": "markdown",
   "id": "d521520e",
   "metadata": {},
   "source": [
    "### Total number of images"
   ]
  },
  {
   "cell_type": "code",
   "execution_count": 46,
   "id": "39bf6539",
   "metadata": {},
   "outputs": [
    {
     "data": {
      "text/plain": [
       "100000"
      ]
     },
     "execution_count": 46,
     "metadata": {},
     "output_type": "execute_result"
    }
   ],
   "source": [
    "len(os.listdir(image_path))"
   ]
  },
  {
   "cell_type": "markdown",
   "id": "3d634824",
   "metadata": {},
   "source": [
    "### Find null values in labels"
   ]
  },
  {
   "cell_type": "code",
   "execution_count": 47,
   "id": "57111851",
   "metadata": {},
   "outputs": [
    {
     "data": {
      "text/plain": [
       "0    6\n",
       "dtype: int64"
      ]
     },
     "execution_count": 47,
     "metadata": {},
     "output_type": "execute_result"
    }
   ],
   "source": [
    "labels.isna().sum()"
   ]
  },
  {
   "cell_type": "code",
   "execution_count": 48,
   "id": "37b4a17c",
   "metadata": {},
   "outputs": [
    {
     "data": {
      "text/html": [
       "<div>\n",
       "<style scoped>\n",
       "    .dataframe tbody tr th:only-of-type {\n",
       "        vertical-align: middle;\n",
       "    }\n",
       "\n",
       "    .dataframe tbody tr th {\n",
       "        vertical-align: top;\n",
       "    }\n",
       "\n",
       "    .dataframe thead th {\n",
       "        text-align: right;\n",
       "    }\n",
       "</style>\n",
       "<table border=\"1\" class=\"dataframe\">\n",
       "  <thead>\n",
       "    <tr style=\"text-align: right;\">\n",
       "      <th></th>\n",
       "      <th>0</th>\n",
       "    </tr>\n",
       "  </thead>\n",
       "  <tbody>\n",
       "    <tr>\n",
       "      <th>17672</th>\n",
       "      <td>NaN</td>\n",
       "    </tr>\n",
       "    <tr>\n",
       "      <th>19198</th>\n",
       "      <td>NaN</td>\n",
       "    </tr>\n",
       "    <tr>\n",
       "      <th>33301</th>\n",
       "      <td>NaN</td>\n",
       "    </tr>\n",
       "    <tr>\n",
       "      <th>57410</th>\n",
       "      <td>NaN</td>\n",
       "    </tr>\n",
       "    <tr>\n",
       "      <th>74347</th>\n",
       "      <td>NaN</td>\n",
       "    </tr>\n",
       "    <tr>\n",
       "      <th>77150</th>\n",
       "      <td>NaN</td>\n",
       "    </tr>\n",
       "  </tbody>\n",
       "</table>\n",
       "</div>"
      ],
      "text/plain": [
       "         0\n",
       "17672  NaN\n",
       "19198  NaN\n",
       "33301  NaN\n",
       "57410  NaN\n",
       "74347  NaN\n",
       "77150  NaN"
      ]
     },
     "execution_count": 48,
     "metadata": {},
     "output_type": "execute_result"
    }
   ],
   "source": [
    "labels[labels[0].isna()]"
   ]
  },
  {
   "cell_type": "markdown",
   "id": "1bb89f7b",
   "metadata": {},
   "source": [
    "### Let's check those images"
   ]
  },
  {
   "cell_type": "code",
   "execution_count": 49,
   "id": "fa7213b1",
   "metadata": {},
   "outputs": [
    {
     "data": {
      "image/png": "[encoded data removed]",
      "text/plain": [
       "<Figure size 640x480 with 1 Axes>"
      ]
     },
     "metadata": {},
     "output_type": "display_data"
    }
   ],
   "source": [
    "img = plt.imread(os.path.join(image_path, \"00019198.jpg\"))\n",
    "plt.imshow(img)\n",
    "plt.show()"
   ]
  },
  {
   "cell_type": "code",
   "execution_count": 50,
   "id": "3db4749e",
   "metadata": {},
   "outputs": [
    {
     "data": {
      "image/png": "[encoded data removed]",
      "text/plain": [
       "<Figure size 640x480 with 1 Axes>"
      ]
     },
     "metadata": {},
     "output_type": "display_data"
    }
   ],
   "source": [
    "img = plt.imread(os.path.join(image_path, \"00074347.jpg\"))\n",
    "plt.imshow(img)\n",
    "plt.show()"
   ]
  },
  {
   "cell_type": "markdown",
   "id": "456aee06",
   "metadata": {},
   "source": [
    "### Replace those missing values with the string \"null\""
   ]
  },
  {
   "cell_type": "code",
   "execution_count": 51,
   "id": "92b25504",
   "metadata": {},
   "outputs": [],
   "source": [
    "labels.fillna(\"null\", inplace=True)"
   ]
  },
  {
   "cell_type": "markdown",
   "id": "f803d736",
   "metadata": {},
   "source": [
    "### Create a dataframe with image paths and corresponding labels"
   ]
  },
  {
   "cell_type": "code",
   "execution_count": 52,
   "id": "421115fd",
   "metadata": {},
   "outputs": [],
   "source": [
    "image_files = os.listdir(image_path)\n",
    "image_files.sort()\n",
    "image_files = [os.path.join(image_path, i) for i in image_files]"
   ]
  },
  {
   "cell_type": "code",
   "execution_count": 53,
   "id": "05084f69",
   "metadata": {},
   "outputs": [],
   "source": [
    "data_file = pd.DataFrame({\"images\": image_files, \"labels\": labels[0]})\n",
    "data_file.to_csv(data_file_path, index=False)"
   ]
  },
  {
   "cell_type": "code",
   "execution_count": 54,
   "id": "12aa0fbe",
   "metadata": {},
   "outputs": [
    {
     "data": {
      "text/html": [
       "<div>\n",
       "<style scoped>\n",
       "    .dataframe tbody tr th:only-of-type {\n",
       "        vertical-align: middle;\n",
       "    }\n",
       "\n",
       "    .dataframe tbody tr th {\n",
       "        vertical-align: top;\n",
       "    }\n",
       "\n",
       "    .dataframe thead th {\n",
       "        text-align: right;\n",
       "    }\n",
       "</style>\n",
       "<table border=\"1\" class=\"dataframe\">\n",
       "  <thead>\n",
       "    <tr style=\"text-align: right;\">\n",
       "      <th></th>\n",
       "      <th>images</th>\n",
       "      <th>labels</th>\n",
       "    </tr>\n",
       "  </thead>\n",
       "  <tbody>\n",
       "    <tr>\n",
       "      <th>0</th>\n",
       "      <td>D:\\Megha\\PPro\\textdetectioninimage\\data\\data\\i...</td>\n",
       "      <td>life</td>\n",
       "    </tr>\n",
       "    <tr>\n",
       "      <th>1</th>\n",
       "      <td>D:\\Megha\\PPro\\textdetectioninimage\\data\\data\\i...</td>\n",
       "      <td>not</td>\n",
       "    </tr>\n",
       "    <tr>\n",
       "      <th>2</th>\n",
       "      <td>D:\\Megha\\PPro\\textdetectioninimage\\data\\data\\i...</td>\n",
       "      <td>while</td>\n",
       "    </tr>\n",
       "    <tr>\n",
       "      <th>3</th>\n",
       "      <td>D:\\Megha\\PPro\\textdetectioninimage\\data\\data\\i...</td>\n",
       "      <td>know</td>\n",
       "    </tr>\n",
       "    <tr>\n",
       "      <th>4</th>\n",
       "      <td>D:\\Megha\\PPro\\textdetectioninimage\\data\\data\\i...</td>\n",
       "      <td>clearly</td>\n",
       "    </tr>\n",
       "  </tbody>\n",
       "</table>\n",
       "</div>"
      ],
      "text/plain": [
       "                                              images   labels\n",
       "0  D:\\Megha\\PPro\\textdetectioninimage\\data\\data\\i...     life\n",
       "1  D:\\Megha\\PPro\\textdetectioninimage\\data\\data\\i...      not\n",
       "2  D:\\Megha\\PPro\\textdetectioninimage\\data\\data\\i...    while\n",
       "3  D:\\Megha\\PPro\\textdetectioninimage\\data\\data\\i...     know\n",
       "4  D:\\Megha\\PPro\\textdetectioninimage\\data\\data\\i...  clearly"
      ]
     },
     "execution_count": 54,
     "metadata": {},
     "output_type": "execute_result"
    }
   ],
   "source": [
    "data_file.head()"
   ]
  },
  {
   "cell_type": "code",
   "execution_count": 55,
   "id": "82001d0f",
   "metadata": {},
   "outputs": [
    {
     "data": {
      "image/png": "[encoded data removed]",
      "text/plain": [
       "<Figure size 640x480 with 1 Axes>"
      ]
     },
     "metadata": {},
     "output_type": "display_data"
    }
   ],
   "source": [
    "img = plt.imread(os.path.join(image_path, \"00000004.jpg\"))\n",
    "plt.imshow(img)\n",
    "plt.show()"
   ]
  },
  {
   "cell_type": "markdown",
   "id": "37810f1c",
   "metadata": {},
   "source": [
    "### Find the unique characters in the labels"
   ]
  },
  {
   "cell_type": "code",
   "execution_count": 56,
   "id": "af2e7711",
   "metadata": {},
   "outputs": [],
   "source": [
    "unique_chars = list({l for word in labels[0] for l in word})\n",
    "unique_chars.sort()"
   ]
  },
  {
   "cell_type": "code",
   "execution_count": 57,
   "id": "6509d39f",
   "metadata": {},
   "outputs": [
    {
     "data": {
      "text/plain": [
       "['#',\n",
       " '$',\n",
       " '%',\n",
       " '&',\n",
       " \"'\",\n",
       " '(',\n",
       " ')',\n",
       " '*',\n",
       " '+',\n",
       " ',',\n",
       " '-',\n",
       " '.',\n",
       " '/',\n",
       " '0',\n",
       " '1',\n",
       " '2',\n",
       " '3',\n",
       " '4',\n",
       " '5',\n",
       " '6',\n",
       " '7',\n",
       " '8',\n",
       " '9',\n",
       " ':',\n",
       " ';',\n",
       " '<',\n",
       " '=',\n",
       " '>',\n",
       " '@',\n",
       " 'A',\n",
       " 'B',\n",
       " 'C',\n",
       " 'D',\n",
       " 'E',\n",
       " 'F',\n",
       " 'G',\n",
       " 'H',\n",
       " 'I',\n",
       " 'J',\n",
       " 'K',\n",
       " 'L',\n",
       " 'M',\n",
       " 'N',\n",
       " 'O',\n",
       " 'P',\n",
       " 'Q',\n",
       " 'R',\n",
       " 'S',\n",
       " 'T',\n",
       " 'U',\n",
       " 'V',\n",
       " 'W',\n",
       " 'X',\n",
       " 'Y',\n",
       " 'Z',\n",
       " 'a',\n",
       " 'b',\n",
       " 'c',\n",
       " 'd',\n",
       " 'e',\n",
       " 'f',\n",
       " 'g',\n",
       " 'h',\n",
       " 'i',\n",
       " 'j',\n",
       " 'k',\n",
       " 'l',\n",
       " 'm',\n",
       " 'n',\n",
       " 'o',\n",
       " 'p',\n",
       " 'q',\n",
       " 'r',\n",
       " 's',\n",
       " 't',\n",
       " 'u',\n",
       " 'v',\n",
       " 'w',\n",
       " 'x',\n",
       " 'y',\n",
       " 'z']"
      ]
     },
     "execution_count": 57,
     "metadata": {},
     "output_type": "execute_result"
    }
   ],
   "source": [
    "unique_chars"
   ]
  },
  {
   "cell_type": "code",
   "execution_count": 58,
   "id": "5772c151",
   "metadata": {},
   "outputs": [
    {
     "data": {
      "text/plain": [
       "81"
      ]
     },
     "execution_count": 58,
     "metadata": {},
     "output_type": "execute_result"
    }
   ],
   "source": [
    "len(unique_chars)"
   ]
  },
  {
   "cell_type": "markdown",
   "id": "9402fd67",
   "metadata": {},
   "source": [
    "### Create mapping from characters to integer and integer to character and save them to dic"
   ]
  },
  {
   "cell_type": "code",
   "execution_count": 59,
   "id": "e07f1ef6",
   "metadata": {},
   "outputs": [],
   "source": [
    "char2int = {a: i+1 for i, a in enumerate(unique_chars)}\n",
    "int2char = {i+1: a for i, a in enumerate(unique_chars)}"
   ]
  },
  {
   "cell_type": "code",
   "execution_count": 60,
   "id": "b2a00f70",
   "metadata": {},
   "outputs": [],
   "source": [
    "save_obj(char2int, char2int_path)\n",
    "save_obj(int2char, int2char_path)"
   ]
  },
  {
   "cell_type": "markdown",
   "id": "b075cfc5",
   "metadata": {},
   "source": [
    "# Training the model"
   ]
  },
  {
   "cell_type": "code",
   "execution_count": 61,
   "id": "6a52b397",
   "metadata": {},
   "outputs": [],
   "source": [
    "device = torch.device(\"cuda:0\" if torch.cuda.is_available() \n",
    "                      else \"cpu\")"
   ]
  },
  {
   "cell_type": "markdown",
   "id": "156ae772",
   "metadata": {},
   "source": [
    "### Split the data into train and validation"
   ]
  },
  {
   "cell_type": "code",
   "execution_count": 62,
   "id": "c26d50b5",
   "metadata": {},
   "outputs": [],
   "source": [
    "train_file, valid_file = train_test_split(data_file, test_size=0.2)"
   ]
  },
  {
   "cell_type": "markdown",
   "id": "9ee43e0d",
   "metadata": {},
   "source": [
    "### Create train and validation datasets"
   ]
  },
  {
   "cell_type": "code",
   "execution_count": 63,
   "id": "3ba8ead3",
   "metadata": {},
   "outputs": [],
   "source": [
    "train_dataset = TRSynthDataset(train_file, char2int)\n",
    "valid_dataset = TRSynthDataset(valid_file, char2int)"
   ]
  },
  {
   "cell_type": "markdown",
   "id": "b8108f10",
   "metadata": {},
   "source": [
    "### Define the loss function"
   ]
  },
  {
   "cell_type": "code",
   "execution_count": 64,
   "id": "c83ac4ab",
   "metadata": {},
   "outputs": [
    {
     "data": {
      "text/plain": [
       "CTCLoss()"
      ]
     },
     "execution_count": 64,
     "metadata": {},
     "output_type": "execute_result"
    }
   ],
   "source": [
    "criterion = nn.CTCLoss(reduction=\"sum\")\n",
    "criterion.to(device)"
   ]
  },
  {
   "cell_type": "markdown",
   "id": "ecb45c4e",
   "metadata": {},
   "source": [
    "### Number of classes"
   ]
  },
  {
   "cell_type": "code",
   "execution_count": 65,
   "id": "1f61b662",
   "metadata": {},
   "outputs": [],
   "source": [
    "n_classes = len(char2int)"
   ]
  },
  {
   "cell_type": "markdown",
   "id": "eac16d69",
   "metadata": {},
   "source": [
    "### Create the model object"
   ]
  },
  {
   "cell_type": "code",
   "execution_count": 66,
   "id": "09ce3f6c",
   "metadata": {},
   "outputs": [
    {
     "data": {
      "text/plain": [
       "ConvRNN(\n",
       "  (relu): LeakyReLU(negative_slope=0.2, inplace=True)\n",
       "  (conv_1): Conv2d(3, 64, kernel_size=(3, 3), stride=(1, 1), padding=(1, 1))\n",
       "  (bn_1): BatchNorm2d(64, eps=1e-05, momentum=0.1, affine=True, track_running_stats=True)\n",
       "  (pool_1): MaxPool2d(kernel_size=(2, 2), stride=(2, 2), padding=0, dilation=1, ceil_mode=False)\n",
       "  (conv_2): Conv2d(64, 128, kernel_size=(3, 3), stride=(1, 1), padding=(1, 1))\n",
       "  (bn_2): BatchNorm2d(128, eps=1e-05, momentum=0.1, affine=True, track_running_stats=True)\n",
       "  (pool_2): MaxPool2d(kernel_size=(2, 2), stride=(2, 2), padding=0, dilation=1, ceil_mode=False)\n",
       "  (conv_3): Conv2d(128, 256, kernel_size=(3, 3), stride=(1, 1), padding=(1, 1))\n",
       "  (bn_3): BatchNorm2d(256, eps=1e-05, momentum=0.1, affine=True, track_running_stats=True)\n",
       "  (conv_4): Conv2d(256, 256, kernel_size=(3, 3), stride=(1, 1), padding=(1, 1))\n",
       "  (bn_4): BatchNorm2d(256, eps=1e-05, momentum=0.1, affine=True, track_running_stats=True)\n",
       "  (pool_4): MaxPool2d(kernel_size=(2, 1), stride=(2, 1), padding=0, dilation=1, ceil_mode=False)\n",
       "  (conv_5): Conv2d(256, 512, kernel_size=(3, 3), stride=(1, 1), padding=(1, 1))\n",
       "  (bn_5): BatchNorm2d(512, eps=1e-05, momentum=0.1, affine=True, track_running_stats=True)\n",
       "  (conv_6): Conv2d(512, 512, kernel_size=(3, 3), stride=(1, 1), padding=(1, 1))\n",
       "  (bn_6): BatchNorm2d(512, eps=1e-05, momentum=0.1, affine=True, track_running_stats=True)\n",
       "  (pool_6): MaxPool2d(kernel_size=(2, 1), stride=(2, 1), padding=0, dilation=1, ceil_mode=False)\n",
       "  (conv_7): Conv2d(512, 512, kernel_size=(3, 3), stride=(1, 1), padding=(1, 1))\n",
       "  (bn_7): BatchNorm2d(512, eps=1e-05, momentum=0.1, affine=True, track_running_stats=True)\n",
       "  (linear_1): Linear(in_features=1024, out_features=64, bias=True)\n",
       "  (linear_2): Linear(in_features=64, out_features=64, bias=True)\n",
       "  (rnn_1): GRU(64, 128, num_layers=2, batch_first=True, dropout=0.25, bidirectional=True)\n",
       "  (rnn_2): GRU(256, 64, num_layers=2, batch_first=True, dropout=0.25, bidirectional=True)\n",
       "  (dense): Linear(in_features=128, out_features=82, bias=True)\n",
       ")"
      ]
     },
     "execution_count": 66,
     "metadata": {},
     "output_type": "execute_result"
    }
   ],
   "source": [
    "model = ConvRNN(n_classes)\n",
    "model.to(device)"
   ]
  },
  {
   "cell_type": "markdown",
   "id": "699d3728",
   "metadata": {},
   "source": [
    "### Define Optimizer"
   ]
  },
  {
   "cell_type": "code",
   "execution_count": 67,
   "id": "b9451856",
   "metadata": {},
   "outputs": [],
   "source": [
    "optimizer = torch.optim.RMSprop(model.parameters(), lr=0.0005)"
   ]
  },
  {
   "cell_type": "markdown",
   "id": "e36dd6f8",
   "metadata": {},
   "source": [
    "### Define train and validation data loaders"
   ]
  },
  {
   "cell_type": "code",
   "execution_count": 68,
   "id": "a33069a7",
   "metadata": {},
   "outputs": [],
   "source": [
    "train_loader = torch.utils.data.DataLoader(train_dataset,\n",
    "                                           batch_size=batch_size,\n",
    "                                           shuffle=True,\n",
    "                                           drop_last=True)\n",
    "\n",
    "valid_loader = torch.utils.data.DataLoader(valid_dataset,\n",
    "                                           batch_size=batch_size,\n",
    "                                           shuffle=False,\n",
    "                                           drop_last=False)"
   ]
  },
  {
   "cell_type": "markdown",
   "id": "5925163b",
   "metadata": {},
   "source": [
    "### Training loop"
   ]
  },
  {
   "cell_type": "code",
   "execution_count": 69,
   "id": "ac8d74cd",
   "metadata": {},
   "outputs": [
    {
     "name": "stdout",
     "output_type": "stream",
     "text": [
      "Epoch 1 of 2...\n"
     ]
    },
    {
     "name": "stderr",
     "output_type": "stream",
     "text": [
      " 35%|███▍      | 27679/80000 [1:14:26<2:20:42,  6.20it/s]\n"
     ]
    },
    {
     "ename": "KeyboardInterrupt",
     "evalue": "",
     "output_type": "error",
     "traceback": [
      "\u001b[1;31m---------------------------------------------------------------------------\u001b[0m",
      "\u001b[1;31mKeyboardInterrupt\u001b[0m                         Traceback (most recent call last)",
      "Cell \u001b[1;32mIn[69], line 110\u001b[0m\n\u001b[0;32m    108\u001b[0m \u001b[38;5;28mprint\u001b[39m(\u001b[38;5;124mf\u001b[39m\u001b[38;5;124m\"\u001b[39m\u001b[38;5;124mEpoch \u001b[39m\u001b[38;5;132;01m{\u001b[39;00mi\u001b[38;5;241m+\u001b[39m\u001b[38;5;241m1\u001b[39m\u001b[38;5;132;01m}\u001b[39;00m\u001b[38;5;124m of \u001b[39m\u001b[38;5;132;01m{\u001b[39;00mepochs\u001b[38;5;132;01m}\u001b[39;00m\u001b[38;5;124m...\u001b[39m\u001b[38;5;124m\"\u001b[39m)\n\u001b[0;32m    109\u001b[0m \u001b[38;5;66;03m# Run train function\u001b[39;00m\n\u001b[1;32m--> 110\u001b[0m train_loss \u001b[38;5;241m=\u001b[39m \u001b[43mtrain\u001b[49m\u001b[43m(\u001b[49m\u001b[43mmodel\u001b[49m\u001b[43m,\u001b[49m\u001b[43m \u001b[49m\u001b[43mtrain_loader\u001b[49m\u001b[43m,\u001b[49m\u001b[43m \u001b[49m\u001b[43mcriterion\u001b[49m\u001b[43m,\u001b[49m\u001b[43m \u001b[49m\u001b[43mdevice\u001b[49m\u001b[43m,\u001b[49m\u001b[43m \u001b[49m\u001b[43moptimizer\u001b[49m\u001b[43m,\u001b[49m\u001b[43m \u001b[49m\u001b[43mtest\u001b[49m\u001b[38;5;241;43m=\u001b[39;49m\u001b[38;5;28;43;01mFalse\u001b[39;49;00m\u001b[43m)\u001b[49m\n\u001b[0;32m    111\u001b[0m \u001b[38;5;66;03m# Run validation function\u001b[39;00m\n\u001b[0;32m    112\u001b[0m valid_loss \u001b[38;5;241m=\u001b[39m train(model, valid_loader, criterion, device, test\u001b[38;5;241m=\u001b[39m\u001b[38;5;28;01mTrue\u001b[39;00m)\n",
      "Cell \u001b[1;32mIn[69], line 48\u001b[0m, in \u001b[0;36mtrain\u001b[1;34m(model, dataloader, criterion, device, optimizer, test)\u001b[0m\n\u001b[0;32m     45\u001b[0m \u001b[38;5;28;01mif\u001b[39;00m \u001b[38;5;129;01mnot\u001b[39;00m test:\n\u001b[0;32m     46\u001b[0m     \u001b[38;5;66;03m# Update weights during training\u001b[39;00m\n\u001b[0;32m     47\u001b[0m     optimizer\u001b[38;5;241m.\u001b[39mzero_grad()\n\u001b[1;32m---> 48\u001b[0m     \u001b[43mloss_\u001b[49m\u001b[38;5;241;43m.\u001b[39;49m\u001b[43mbackward\u001b[49m\u001b[43m(\u001b[49m\u001b[43m)\u001b[49m\n\u001b[0;32m     49\u001b[0m     optimizer\u001b[38;5;241m.\u001b[39mstep()\n\u001b[0;32m     51\u001b[0m loss\u001b[38;5;241m.\u001b[39mappend(loss_\u001b[38;5;241m.\u001b[39mitem())\n",
      "File \u001b[1;32mc:\\Users\\user\\anaconda3\\envs\\textdet\\lib\\site-packages\\torch\\_tensor.py:492\u001b[0m, in \u001b[0;36mTensor.backward\u001b[1;34m(self, gradient, retain_graph, create_graph, inputs)\u001b[0m\n\u001b[0;32m    482\u001b[0m \u001b[38;5;28;01mif\u001b[39;00m has_torch_function_unary(\u001b[38;5;28mself\u001b[39m):\n\u001b[0;32m    483\u001b[0m     \u001b[38;5;28;01mreturn\u001b[39;00m handle_torch_function(\n\u001b[0;32m    484\u001b[0m         Tensor\u001b[38;5;241m.\u001b[39mbackward,\n\u001b[0;32m    485\u001b[0m         (\u001b[38;5;28mself\u001b[39m,),\n\u001b[1;32m   (...)\u001b[0m\n\u001b[0;32m    490\u001b[0m         inputs\u001b[38;5;241m=\u001b[39minputs,\n\u001b[0;32m    491\u001b[0m     )\n\u001b[1;32m--> 492\u001b[0m \u001b[43mtorch\u001b[49m\u001b[38;5;241;43m.\u001b[39;49m\u001b[43mautograd\u001b[49m\u001b[38;5;241;43m.\u001b[39;49m\u001b[43mbackward\u001b[49m\u001b[43m(\u001b[49m\n\u001b[0;32m    493\u001b[0m \u001b[43m    \u001b[49m\u001b[38;5;28;43mself\u001b[39;49m\u001b[43m,\u001b[49m\u001b[43m \u001b[49m\u001b[43mgradient\u001b[49m\u001b[43m,\u001b[49m\u001b[43m \u001b[49m\u001b[43mretain_graph\u001b[49m\u001b[43m,\u001b[49m\u001b[43m \u001b[49m\u001b[43mcreate_graph\u001b[49m\u001b[43m,\u001b[49m\u001b[43m \u001b[49m\u001b[43minputs\u001b[49m\u001b[38;5;241;43m=\u001b[39;49m\u001b[43minputs\u001b[49m\n\u001b[0;32m    494\u001b[0m \u001b[43m\u001b[49m\u001b[43m)\u001b[49m\n",
      "File \u001b[1;32mc:\\Users\\user\\anaconda3\\envs\\textdet\\lib\\site-packages\\torch\\autograd\\__init__.py:251\u001b[0m, in \u001b[0;36mbackward\u001b[1;34m(tensors, grad_tensors, retain_graph, create_graph, grad_variables, inputs)\u001b[0m\n\u001b[0;32m    246\u001b[0m     retain_graph \u001b[38;5;241m=\u001b[39m create_graph\n\u001b[0;32m    248\u001b[0m \u001b[38;5;66;03m# The reason we repeat the same comment below is that\u001b[39;00m\n\u001b[0;32m    249\u001b[0m \u001b[38;5;66;03m# some Python versions print out the first line of a multi-line function\u001b[39;00m\n\u001b[0;32m    250\u001b[0m \u001b[38;5;66;03m# calls in the traceback and some print out the last line\u001b[39;00m\n\u001b[1;32m--> 251\u001b[0m \u001b[43mVariable\u001b[49m\u001b[38;5;241;43m.\u001b[39;49m\u001b[43m_execution_engine\u001b[49m\u001b[38;5;241;43m.\u001b[39;49m\u001b[43mrun_backward\u001b[49m\u001b[43m(\u001b[49m\u001b[43m  \u001b[49m\u001b[38;5;66;43;03m# Calls into the C++ engine to run the backward pass\u001b[39;49;00m\n\u001b[0;32m    252\u001b[0m \u001b[43m    \u001b[49m\u001b[43mtensors\u001b[49m\u001b[43m,\u001b[49m\n\u001b[0;32m    253\u001b[0m \u001b[43m    \u001b[49m\u001b[43mgrad_tensors_\u001b[49m\u001b[43m,\u001b[49m\n\u001b[0;32m    254\u001b[0m \u001b[43m    \u001b[49m\u001b[43mretain_graph\u001b[49m\u001b[43m,\u001b[49m\n\u001b[0;32m    255\u001b[0m \u001b[43m    \u001b[49m\u001b[43mcreate_graph\u001b[49m\u001b[43m,\u001b[49m\n\u001b[0;32m    256\u001b[0m \u001b[43m    \u001b[49m\u001b[43minputs\u001b[49m\u001b[43m,\u001b[49m\n\u001b[0;32m    257\u001b[0m \u001b[43m    \u001b[49m\u001b[43mallow_unreachable\u001b[49m\u001b[38;5;241;43m=\u001b[39;49m\u001b[38;5;28;43;01mTrue\u001b[39;49;00m\u001b[43m,\u001b[49m\n\u001b[0;32m    258\u001b[0m \u001b[43m    \u001b[49m\u001b[43maccumulate_grad\u001b[49m\u001b[38;5;241;43m=\u001b[39;49m\u001b[38;5;28;43;01mTrue\u001b[39;49;00m\u001b[43m,\u001b[49m\n\u001b[0;32m    259\u001b[0m \u001b[43m\u001b[49m\u001b[43m)\u001b[49m\n",
      "\u001b[1;31mKeyboardInterrupt\u001b[0m: "
     ]
    }
   ],
   "source": [
    "import torch\n",
    "import config\n",
    "import numpy as np\n",
    "import pandas as pd\n",
    "import torch.nn as nn\n",
    "\n",
    "from tqdm import tqdm\n",
    "from sklearn.model_selection import train_test_split\n",
    "\n",
    "\n",
    "def train(model, dataloader, criterion, device, optimizer=None, test=False):\n",
    "    \"\"\"\n",
    "    Function to train the model\n",
    "    :param network: Model object\n",
    "    :param loader: data loader\n",
    "    :param loss_fn: loss function\n",
    "    :param dvc: device (cpu or cuda)\n",
    "    :param opt: optimizer\n",
    "    :param test: True for validation (gradients won't be updated)\n",
    "    :return: Average loss for the epoch\n",
    "    \"\"\"\n",
    "\n",
    "    # Set mode to train or validation\n",
    "    if test:\n",
    "        model.eval()\n",
    "    else:\n",
    "        model.train()\n",
    "    loss = []\n",
    "    for inp, tgt, tgt_len in tqdm(dataloader):\n",
    "        # Move tensors to device\n",
    "        inp = inp.to(device)\n",
    "        tgt = tgt.to(device)\n",
    "        tgt_len = tgt_len.to(device)\n",
    "        # Forward pass\n",
    "        out = model(inp)\n",
    "        out = out.permute(1,0,2)\n",
    "        # Calculate input lengths for the data points\n",
    "        # All have equal length of 40 since all images in\n",
    "        # our dataset are of equal length\n",
    "        inp_len = torch.LongTensor([40] * out.shape[1])\n",
    "        # Calculate CTC Loss\n",
    "        log_probs = nn.functional.log_softmax(out, 2)\n",
    "        loss_ = criterion(log_probs, tgt, inp_len, tgt_len)\n",
    "\n",
    "        if not test:\n",
    "            # Update weights during training\n",
    "            optimizer.zero_grad()\n",
    "            loss_.backward()\n",
    "            optimizer.step()\n",
    "\n",
    "        loss.append(loss_.item())\n",
    "\n",
    "    return np.mean(loss)\n",
    "\n",
    "\n",
    "if __name__ == \"__main__\":\n",
    "\n",
    "    data_file_path = config.data_file_path\n",
    "    char2int_path = config.char2int_path\n",
    "    epochs = config.epochs\n",
    "    batch_size = config.batch_size\n",
    "    model_path = config.model_path\n",
    "\n",
    "    # Read the data file\n",
    "    data_file = pd.read_csv(data_file_path)\n",
    "    data_file.fillna(\"null\", inplace=True)\n",
    "\n",
    "    # Load character to integer mapping dictionary\n",
    "    char2int = load_obj(char2int_path)\n",
    "\n",
    "    # Check if cuda is available\n",
    "    device = torch.device(\"cuda:0\" if torch.cuda.is_available() else \"cpu\")\n",
    "\n",
    "    # Split the data into train and validation sets\n",
    "    train_file, valid_file = train_test_split(data_file, test_size=0.2)\n",
    "\n",
    "    # Create train and validation datasets\n",
    "    train_dataset = TRSynthDataset(train_file, char2int)\n",
    "    valid_dataset = TRSynthDataset(valid_file, char2int)\n",
    "\n",
    "    # Define loss function\n",
    "    criterion = nn.CTCLoss(reduction=\"sum\")\n",
    "    criterion.to(device)\n",
    "\n",
    "    # Number of classes\n",
    "    n_classes = len(char2int)\n",
    "    # Create model object\n",
    "    model = ConvRNN(n_classes)\n",
    "    model.to(device)\n",
    "\n",
    "    # Define optimizer\n",
    "    optimizer = torch.optim.RMSprop(model.parameters(), lr=0.0005)\n",
    "\n",
    "    # Define train and validation dataloaders\n",
    "    train_loader = torch.utils.data.DataLoader(train_dataset,\n",
    "                                               batch_size=batch_size,\n",
    "                                               shuffle=True,\n",
    "                                               drop_last=True)\n",
    "\n",
    "    valid_loader = torch.utils.data.DataLoader(valid_dataset,\n",
    "                                               batch_size=batch_size,\n",
    "                                               shuffle=False,\n",
    "                                               drop_last=False)\n",
    "\n",
    "    # Training loop\n",
    "    best_loss = 1e7\n",
    "    for i in range(epochs):\n",
    "        print(f\"Epoch {i+1} of {epochs}...\")\n",
    "        # Run train function\n",
    "        train_loss = train(model, train_loader, criterion, device, optimizer, test=False)\n",
    "        # Run validation function\n",
    "        valid_loss = train(model, valid_loader, criterion, device, test=True)\n",
    "        print(f\"Train Loss: {round(train_loss,4)}, Valid Loss: {round(valid_loss,4)}\")\n",
    "        if valid_loss < best_loss:\n",
    "            print(\"Validation Loss improved, saving Model File...\")\n",
    "            # Save model object\n",
    "            torch.save(model.state_dict(), model_path)\n",
    "            best_loss = valid_loss\n"
   ]
  },
  {
   "cell_type": "markdown",
   "id": "76a3aae6",
   "metadata": {},
   "source": [
    "### Load the trained model"
   ]
  },
  {
   "cell_type": "code",
   "execution_count": 70,
   "id": "d2661734",
   "metadata": {},
   "outputs": [
    {
     "data": {
      "text/plain": [
       "ConvRNN(\n",
       "  (relu): LeakyReLU(negative_slope=0.2, inplace=True)\n",
       "  (conv_1): Conv2d(3, 64, kernel_size=(3, 3), stride=(1, 1), padding=(1, 1))\n",
       "  (bn_1): BatchNorm2d(64, eps=1e-05, momentum=0.1, affine=True, track_running_stats=True)\n",
       "  (pool_1): MaxPool2d(kernel_size=(2, 2), stride=(2, 2), padding=0, dilation=1, ceil_mode=False)\n",
       "  (conv_2): Conv2d(64, 128, kernel_size=(3, 3), stride=(1, 1), padding=(1, 1))\n",
       "  (bn_2): BatchNorm2d(128, eps=1e-05, momentum=0.1, affine=True, track_running_stats=True)\n",
       "  (pool_2): MaxPool2d(kernel_size=(2, 2), stride=(2, 2), padding=0, dilation=1, ceil_mode=False)\n",
       "  (conv_3): Conv2d(128, 256, kernel_size=(3, 3), stride=(1, 1), padding=(1, 1))\n",
       "  (bn_3): BatchNorm2d(256, eps=1e-05, momentum=0.1, affine=True, track_running_stats=True)\n",
       "  (conv_4): Conv2d(256, 256, kernel_size=(3, 3), stride=(1, 1), padding=(1, 1))\n",
       "  (bn_4): BatchNorm2d(256, eps=1e-05, momentum=0.1, affine=True, track_running_stats=True)\n",
       "  (pool_4): MaxPool2d(kernel_size=(2, 1), stride=(2, 1), padding=0, dilation=1, ceil_mode=False)\n",
       "  (conv_5): Conv2d(256, 512, kernel_size=(3, 3), stride=(1, 1), padding=(1, 1))\n",
       "  (bn_5): BatchNorm2d(512, eps=1e-05, momentum=0.1, affine=True, track_running_stats=True)\n",
       "  (conv_6): Conv2d(512, 512, kernel_size=(3, 3), stride=(1, 1), padding=(1, 1))\n",
       "  (bn_6): BatchNorm2d(512, eps=1e-05, momentum=0.1, affine=True, track_running_stats=True)\n",
       "  (pool_6): MaxPool2d(kernel_size=(2, 1), stride=(2, 1), padding=0, dilation=1, ceil_mode=False)\n",
       "  (conv_7): Conv2d(512, 512, kernel_size=(3, 3), stride=(1, 1), padding=(1, 1))\n",
       "  (bn_7): BatchNorm2d(512, eps=1e-05, momentum=0.1, affine=True, track_running_stats=True)\n",
       "  (linear_1): Linear(in_features=1024, out_features=64, bias=True)\n",
       "  (linear_2): Linear(in_features=64, out_features=64, bias=True)\n",
       "  (rnn_1): GRU(64, 128, num_layers=2, batch_first=True, dropout=0.25, bidirectional=True)\n",
       "  (rnn_2): GRU(256, 64, num_layers=2, batch_first=True, dropout=0.25, bidirectional=True)\n",
       "  (dense): Linear(in_features=128, out_features=82, bias=True)\n",
       ")"
      ]
     },
     "execution_count": 70,
     "metadata": {},
     "output_type": "execute_result"
    }
   ],
   "source": [
    "model = ConvRNN(n_classes)\n",
    "model.load_state_dict(torch.load(model_path, \n",
    "                                map_location=torch.device('cpu')))\n",
    "\n",
    "# Set model mode to evaluation\n",
    "model.eval()"
   ]
  },
  {
   "cell_type": "markdown",
   "id": "919b7c24",
   "metadata": {},
   "source": [
    "# Prediction"
   ]
  },
  {
   "cell_type": "markdown",
   "id": "472aca06",
   "metadata": {},
   "source": [
    "### Pick a test image"
   ]
  },
  {
   "cell_type": "code",
   "execution_count": 71,
   "id": "d222e9ba",
   "metadata": {},
   "outputs": [],
   "source": [
    "test_img = os.path.join(image_path, \"00000017.jpg\")\n",
    "img = cv2.imread(test_img)"
   ]
  },
  {
   "cell_type": "code",
   "execution_count": 72,
   "id": "763f6de1",
   "metadata": {},
   "outputs": [
    {
     "data": {
      "image/png": "[encoded data removed]",
      "text/plain": [
       "<Figure size 640x480 with 1 Axes>"
      ]
     },
     "metadata": {},
     "output_type": "display_data"
    }
   ],
   "source": [
    "plt.imshow(plt.imread(test_img))\n",
    "plt.show()"
   ]
  },
  {
   "cell_type": "markdown",
   "id": "23988bb9",
   "metadata": {},
   "source": [
    "### Apply augmentations"
   ]
  },
  {
   "cell_type": "code",
   "execution_count": 73,
   "id": "2d8201cd",
   "metadata": {},
   "outputs": [],
   "source": [
    "mean = (0.485, 0.456, 0.406)\n",
    "std = (0.229, 0.224, 0.225)\n",
    "img_aug = albumentations.Compose(\n",
    "        [albumentations.Normalize(mean, std,\n",
    "                                  max_pixel_value=255.0,\n",
    "                                  always_apply=True)]\n",
    "    )\n",
    "augmented = img_aug(image=img)\n",
    "img = augmented[\"image\"]\n",
    "img = img.transpose(2, 0, 1)\n",
    "img = torch.from_numpy(img)\n",
    "# Create batch dimension (batch of single image)\n",
    "img = torch.unsqueeze(img, 0)\n",
    "# Move the image array to CUDA if available\n",
    "img = img.to(device)"
   ]
  },
  {
   "cell_type": "markdown",
   "id": "14686e1f",
   "metadata": {},
   "source": [
    "### Take model output"
   ]
  },
  {
   "cell_type": "code",
   "execution_count": 74,
   "id": "35427453",
   "metadata": {},
   "outputs": [],
   "source": [
    "out = model(img)"
   ]
  },
  {
   "cell_type": "markdown",
   "id": "6f137d97",
   "metadata": {},
   "source": [
    "### Apply softmax and take label predictions"
   ]
  },
  {
   "cell_type": "code",
   "execution_count": 75,
   "id": "0b3fd42f",
   "metadata": {},
   "outputs": [],
   "source": [
    "out = torch.squeeze(out, 0)\n",
    "out = out.softmax(1)\n",
    "pred = torch.argmax(out, 1)"
   ]
  },
  {
   "cell_type": "code",
   "execution_count": 76,
   "id": "fbb549d0",
   "metadata": {},
   "outputs": [
    {
     "data": {
      "text/plain": [
       "torch.Size([40])"
      ]
     },
     "execution_count": 76,
     "metadata": {},
     "output_type": "execute_result"
    }
   ],
   "source": [
    "pred.shape"
   ]
  },
  {
   "cell_type": "code",
   "execution_count": 77,
   "id": "0cf2c4d4",
   "metadata": {},
   "outputs": [],
   "source": [
    "pred = pred.tolist()"
   ]
  },
  {
   "cell_type": "code",
   "execution_count": 78,
   "id": "ae45a1d4",
   "metadata": {},
   "outputs": [
    {
     "data": {
      "text/plain": [
       "[0,\n",
       " 0,\n",
       " 0,\n",
       " 0,\n",
       " 0,\n",
       " 0,\n",
       " 0,\n",
       " 0,\n",
       " 0,\n",
       " 0,\n",
       " 0,\n",
       " 0,\n",
       " 75,\n",
       " 0,\n",
       " 0,\n",
       " 63,\n",
       " 0,\n",
       " 0,\n",
       " 0,\n",
       " 60,\n",
       " 0,\n",
       " 0,\n",
       " 0,\n",
       " 0,\n",
       " 0,\n",
       " 0,\n",
       " 0,\n",
       " 0,\n",
       " 0,\n",
       " 0,\n",
       " 0,\n",
       " 0,\n",
       " 0,\n",
       " 0,\n",
       " 0,\n",
       " 0,\n",
       " 0,\n",
       " 0,\n",
       " 0,\n",
       " 0]"
      ]
     },
     "execution_count": 78,
     "metadata": {},
     "output_type": "execute_result"
    }
   ],
   "source": [
    "pred"
   ]
  },
  {
   "cell_type": "code",
   "execution_count": 79,
   "id": "97b8571e",
   "metadata": {},
   "outputs": [
    {
     "data": {
      "text/plain": [
       "'t'"
      ]
     },
     "execution_count": 79,
     "metadata": {},
     "output_type": "execute_result"
    }
   ],
   "source": [
    "int2char[75]"
   ]
  },
  {
   "cell_type": "markdown",
   "id": "7256b419",
   "metadata": {},
   "source": [
    "### Use 'ph' for special character"
   ]
  },
  {
   "cell_type": "code",
   "execution_count": 80,
   "id": "edc4033e",
   "metadata": {},
   "outputs": [],
   "source": [
    "int2char[0] = \"ph\""
   ]
  },
  {
   "cell_type": "markdown",
   "id": "97aa70ad",
   "metadata": {},
   "source": [
    "### Convert integer predictions to string"
   ]
  },
  {
   "cell_type": "code",
   "execution_count": 81,
   "id": "f3aa5192",
   "metadata": {},
   "outputs": [],
   "source": [
    "out = [int2char[i] for i in pred]"
   ]
  },
  {
   "cell_type": "code",
   "execution_count": 82,
   "id": "aa5cca0b",
   "metadata": {},
   "outputs": [
    {
     "data": {
      "text/plain": [
       "['ph',\n",
       " 'ph',\n",
       " 'ph',\n",
       " 'ph',\n",
       " 'ph',\n",
       " 'ph',\n",
       " 'ph',\n",
       " 'ph',\n",
       " 'ph',\n",
       " 'ph',\n",
       " 'ph',\n",
       " 'ph',\n",
       " 't',\n",
       " 'ph',\n",
       " 'ph',\n",
       " 'h',\n",
       " 'ph',\n",
       " 'ph',\n",
       " 'ph',\n",
       " 'e',\n",
       " 'ph',\n",
       " 'ph',\n",
       " 'ph',\n",
       " 'ph',\n",
       " 'ph',\n",
       " 'ph',\n",
       " 'ph',\n",
       " 'ph',\n",
       " 'ph',\n",
       " 'ph',\n",
       " 'ph',\n",
       " 'ph',\n",
       " 'ph',\n",
       " 'ph',\n",
       " 'ph',\n",
       " 'ph',\n",
       " 'ph',\n",
       " 'ph',\n",
       " 'ph',\n",
       " 'ph']"
      ]
     },
     "execution_count": 82,
     "metadata": {},
     "output_type": "execute_result"
    }
   ],
   "source": [
    "out"
   ]
  },
  {
   "cell_type": "markdown",
   "id": "1c116074",
   "metadata": {},
   "source": [
    "### Collapse the output"
   ]
  },
  {
   "cell_type": "code",
   "execution_count": 83,
   "id": "7c443674",
   "metadata": {},
   "outputs": [],
   "source": [
    "res = list()\n",
    "res.append(out[0])\n",
    "for i in range(1, len(out)):\n",
    "    if out[i] != out[i - 1]:\n",
    "        res.append(out[i])\n",
    "res = [i for i in res if i != \"ph\"]\n",
    "res = \"\".join(res)"
   ]
  },
  {
   "cell_type": "code",
   "execution_count": 84,
   "id": "3297b97d",
   "metadata": {},
   "outputs": [
    {
     "name": "stdout",
     "output_type": "stream",
     "text": [
      "the\n"
     ]
    }
   ],
   "source": [
    "print(res)"
   ]
  }
 ],
 "metadata": {
  "kernelspec": {
   "display_name": "Python 3",
   "language": "python",
   "name": "python3"
  },
  "language_info": {
   "codemirror_mode": {
    "name": "ipython",
    "version": 3
   },
   "file_extension": ".py",
   "mimetype": "text/x-python",
   "name": "python",
   "nbconvert_exporter": "python",
   "pygments_lexer": "ipython3",
   "version": "3.9.18"
  }
 },
 "nbformat": 4,
 "nbformat_minor": 5
}
