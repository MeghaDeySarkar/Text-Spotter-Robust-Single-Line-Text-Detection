{
 "cells": [
  {
   "cell_type": "code",
   "execution_count": null,
   "id": "ccb2cf57",
   "metadata": {},
   "outputs": [],
   "source": [
    "import os\n",
    "import cv2\n",
    "import torch\n",
    "import pickle\n",
    "import numpy as np\n",
    "import pandas as pd\n",
    "import torch.nn as nn\n",
    "import albumentations\n",
    "import matplotlib.pyplot as plt\n",
    "\n",
    "from tqdm import tqdm\n",
    "from train import train\n",
    "from source.network import ConvRNN\n",
    "from utils import load_obj, save_obj\n",
    "from source.dataset import TRSynthDataset\n",
    "from sklearn.model_selection import train_test_split\n",
    "\n",
    "%matplotlib inline"
   ]
  },
  {
   "cell_type": "code",
   "execution_count": null,
   "id": "f1cb9a37",
   "metadata": {},
   "outputs": [],
   "source": [
    "with open('D:\\Megha\\PPro\\textdetectioninimage\\modular_code (1)\\modular_code\\src\\config.py') as f:\n",
    "  config = yaml.safe_load(f)\n",
    "\n",
    "extn = config[\"extn\"]\n",
    "epochs = config[\"epochs\"]\n",
    "log_path = config[\"log_path\"]\n",
    "mask_path = config[\"mask_path\"]\n",
    "image_path = config[\"image_path\"]\n",
    "model_path = config[\"model_path\"]"
   ]
  },
  {
   "cell_type": "code",
   "execution_count": null,
   "id": "e3867335",
   "metadata": {},
   "outputs": [],
   "source": [
    "epochs = config.epochs\n",
    "batch_size = config.batch_size\n",
    "model_path = config.model_path\n",
    "char2int_path = config.char2int_path\n",
    "int2char_path = config.int2char_path\n",
    "data_file_path = config.data_file_path\n",
    "image_path = config.image_path\n",
    "label_path = config.label_path"
   ]
  },
  {
   "cell_type": "markdown",
   "id": "247447b6",
   "metadata": {},
   "source": [
    "### Inspect some images"
   ]
  },
  {
   "cell_type": "code",
   "execution_count": null,
   "id": "92de90d8",
   "metadata": {},
   "outputs": [],
   "source": [
    "img = plt.imread(os.path.join(image_path,\"00000017.jpg\"))\n",
    "plt.imshow(img)\n",
    "plt.show()"
   ]
  },
  {
   "cell_type": "markdown",
   "id": "1c3248d9",
   "metadata": {},
   "source": [
    "### Check corresponding label"
   ]
  },
  {
   "cell_type": "code",
   "execution_count": null,
   "id": "1876e18b",
   "metadata": {},
   "outputs": [],
   "source": [
    "labels = pd.read_table(label_path, header=None)"
   ]
  },
  {
   "cell_type": "code",
   "execution_count": null,
   "id": "97964bf4",
   "metadata": {},
   "outputs": [],
   "source": [
    "labels.head()"
   ]
  },
  {
   "cell_type": "code",
   "execution_count": null,
   "id": "f9e03d58",
   "metadata": {},
   "outputs": [],
   "source": [
    "labels.iloc[17,0]"
   ]
  },
  {
   "cell_type": "code",
   "execution_count": null,
   "id": "5be877db",
   "metadata": {},
   "outputs": [],
   "source": [
    "labels.shape"
   ]
  },
  {
   "cell_type": "markdown",
   "id": "d521520e",
   "metadata": {},
   "source": [
    "### Total number of images"
   ]
  },
  {
   "cell_type": "code",
   "execution_count": null,
   "id": "39bf6539",
   "metadata": {},
   "outputs": [],
   "source": [
    "len(os.listdir(image_path))"
   ]
  },
  {
   "cell_type": "markdown",
   "id": "3d634824",
   "metadata": {},
   "source": [
    "### Find null values in labels"
   ]
  },
  {
   "cell_type": "code",
   "execution_count": null,
   "id": "57111851",
   "metadata": {},
   "outputs": [],
   "source": [
    "labels.isna().sum()"
   ]
  },
  {
   "cell_type": "code",
   "execution_count": null,
   "id": "37b4a17c",
   "metadata": {},
   "outputs": [],
   "source": [
    "labels[labels[0].isna()]"
   ]
  },
  {
   "cell_type": "markdown",
   "id": "1bb89f7b",
   "metadata": {},
   "source": [
    "### Let's check those images"
   ]
  },
  {
   "cell_type": "code",
   "execution_count": null,
   "id": "fa7213b1",
   "metadata": {},
   "outputs": [],
   "source": [
    "img = plt.imread(os.path.join(image_path, \"00019198.jpg\"))\n",
    "plt.imshow(img)\n",
    "plt.show()"
   ]
  },
  {
   "cell_type": "code",
   "execution_count": null,
   "id": "3db4749e",
   "metadata": {},
   "outputs": [],
   "source": [
    "img = plt.imread(os.path.join(image_path, \"00074347.jpg\"))\n",
    "plt.imshow(img)\n",
    "plt.show()"
   ]
  },
  {
   "cell_type": "markdown",
   "id": "456aee06",
   "metadata": {},
   "source": [
    "### Replace those missing values with the string \"null\""
   ]
  },
  {
   "cell_type": "code",
   "execution_count": null,
   "id": "92b25504",
   "metadata": {},
   "outputs": [],
   "source": [
    "labels.fillna(\"null\", inplace=True)"
   ]
  },
  {
   "cell_type": "markdown",
   "id": "f803d736",
   "metadata": {},
   "source": [
    "### Create a dataframe with image paths and corresponding labels"
   ]
  },
  {
   "cell_type": "code",
   "execution_count": null,
   "id": "421115fd",
   "metadata": {},
   "outputs": [],
   "source": [
    "image_files = os.listdir(image_path)\n",
    "image_files.sort()\n",
    "image_files = [os.path.join(image_path, i) for i in image_files]"
   ]
  },
  {
   "cell_type": "code",
   "execution_count": null,
   "id": "05084f69",
   "metadata": {},
   "outputs": [],
   "source": [
    "data_file = pd.DataFrame({\"images\": image_files, \"labels\": labels[0]})\n",
    "data_file.to_csv(data_file_path, index=False)"
   ]
  },
  {
   "cell_type": "code",
   "execution_count": null,
   "id": "12aa0fbe",
   "metadata": {},
   "outputs": [],
   "source": [
    "data_file.head()"
   ]
  },
  {
   "cell_type": "code",
   "execution_count": null,
   "id": "82001d0f",
   "metadata": {},
   "outputs": [],
   "source": [
    "img = plt.imread(os.path.join(image_path, \"00000004.jpg\"))\n",
    "plt.imshow(img)\n",
    "plt.show()"
   ]
  },
  {
   "cell_type": "markdown",
   "id": "37810f1c",
   "metadata": {},
   "source": [
    "### Find the unique characters in the labels"
   ]
  },
  {
   "cell_type": "code",
   "execution_count": null,
   "id": "af2e7711",
   "metadata": {},
   "outputs": [],
   "source": [
    "unique_chars = list({l for word in labels[0] for l in word})\n",
    "unique_chars.sort()"
   ]
  },
  {
   "cell_type": "code",
   "execution_count": null,
   "id": "6509d39f",
   "metadata": {},
   "outputs": [],
   "source": [
    "unique_chars"
   ]
  },
  {
   "cell_type": "code",
   "execution_count": null,
   "id": "5772c151",
   "metadata": {},
   "outputs": [],
   "source": [
    "len(unique_chars)"
   ]
  },
  {
   "cell_type": "markdown",
   "id": "9402fd67",
   "metadata": {},
   "source": [
    "### Create mapping from characters to integer and integer to character and save them to disc"
   ]
  },
  {
   "cell_type": "code",
   "execution_count": null,
   "id": "e07f1ef6",
   "metadata": {},
   "outputs": [],
   "source": [
    "char2int = {a: i+1 for i, a in enumerate(unique_chars)}\n",
    "int2char = {i+1: a for i, a in enumerate(unique_chars)}"
   ]
  },
  {
   "cell_type": "code",
   "execution_count": null,
   "id": "b2a00f70",
   "metadata": {},
   "outputs": [],
   "source": [
    "save_obj(char2int, char2int_path)\n",
    "save_obj(int2char, int2char_path)"
   ]
  },
  {
   "cell_type": "markdown",
   "id": "b075cfc5",
   "metadata": {},
   "source": [
    "# Training the model"
   ]
  },
  {
   "cell_type": "code",
   "execution_count": null,
   "id": "6a52b397",
   "metadata": {},
   "outputs": [],
   "source": [
    "device = torch.device(\"cuda:0\" if torch.cuda.is_available() \n",
    "                      else \"cpu\")"
   ]
  },
  {
   "cell_type": "markdown",
   "id": "156ae772",
   "metadata": {},
   "source": [
    "### Split the data into train and validation"
   ]
  },
  {
   "cell_type": "code",
   "execution_count": null,
   "id": "c26d50b5",
   "metadata": {},
   "outputs": [],
   "source": [
    "train_file, valid_file = train_test_split(data_file, test_size=0.2)"
   ]
  },
  {
   "cell_type": "markdown",
   "id": "9ee43e0d",
   "metadata": {},
   "source": [
    "### Create train and validation datasets"
   ]
  },
  {
   "cell_type": "code",
   "execution_count": null,
   "id": "3ba8ead3",
   "metadata": {},
   "outputs": [],
   "source": [
    "train_dataset = TRSynthDataset(train_file, char2int)\n",
    "valid_dataset = TRSynthDataset(valid_file, char2int)"
   ]
  },
  {
   "cell_type": "markdown",
   "id": "b8108f10",
   "metadata": {},
   "source": [
    "### Define the loss function"
   ]
  },
  {
   "cell_type": "code",
   "execution_count": null,
   "id": "c83ac4ab",
   "metadata": {},
   "outputs": [],
   "source": [
    "criterion = nn.CTCLoss(reduction=\"sum\")\n",
    "criterion.to(device)"
   ]
  },
  {
   "cell_type": "markdown",
   "id": "ecb45c4e",
   "metadata": {},
   "source": [
    "### Number of classes"
   ]
  },
  {
   "cell_type": "code",
   "execution_count": null,
   "id": "1f61b662",
   "metadata": {},
   "outputs": [],
   "source": [
    "n_classes = len(char2int)"
   ]
  },
  {
   "cell_type": "markdown",
   "id": "eac16d69",
   "metadata": {},
   "source": [
    "### Create the model object"
   ]
  },
  {
   "cell_type": "code",
   "execution_count": null,
   "id": "09ce3f6c",
   "metadata": {},
   "outputs": [],
   "source": [
    "model = ConvRNN(n_classes)\n",
    "model.to(device)"
   ]
  },
  {
   "cell_type": "markdown",
   "id": "699d3728",
   "metadata": {},
   "source": [
    "### Define Optimizer"
   ]
  },
  {
   "cell_type": "code",
   "execution_count": null,
   "id": "b9451856",
   "metadata": {},
   "outputs": [],
   "source": [
    "optimizer = torch.optim.RMSprop(model.parameters(), lr=0.0005)"
   ]
  },
  {
   "cell_type": "markdown",
   "id": "e36dd6f8",
   "metadata": {},
   "source": [
    "### Define train and validation data loaders"
   ]
  },
  {
   "cell_type": "code",
   "execution_count": null,
   "id": "a33069a7",
   "metadata": {},
   "outputs": [],
   "source": [
    "train_loader = torch.utils.data.DataLoader(train_dataset,\n",
    "                                           batch_size=batch_size,\n",
    "                                           shuffle=True,\n",
    "                                           drop_last=True)\n",
    "\n",
    "valid_loader = torch.utils.data.DataLoader(valid_dataset,\n",
    "                                           batch_size=batch_size,\n",
    "                                           shuffle=False,\n",
    "                                           drop_last=False)"
   ]
  },
  {
   "cell_type": "markdown",
   "id": "5925163b",
   "metadata": {},
   "source": [
    "### Training loop"
   ]
  },
  {
   "cell_type": "code",
   "execution_count": null,
   "id": "ac8d74cd",
   "metadata": {},
   "outputs": [],
   "source": []
  },
  {
   "cell_type": "code",
   "execution_count": null,
   "id": "ec635427",
   "metadata": {},
   "outputs": [],
   "source": [
    "for i in range(epochs):\n",
    "    print(f\"Epoch {i+1} of {epochs}...\")\n",
    "    # Run train function\n",
    "    train_loss = train(model, train_loader, criterion, device, optimizer, test=False)\n",
    "    # Run validation function\n",
    "    valid_loss = train(model, valid_loader, criterion, device, test=True)\n",
    "    print(f\"Train Loss: {round(train_loss,4)}, Valid Loss: {round(valid_loss,4)}\")\n",
    "    if valid_loss < best_loss:\n",
    "        print(\"Validation Loss improved, saving Model File...\")\n",
    "        # Save model object\n",
    "        torch.save(model.state_dict(), model_path)\n",
    "        best_loss = valid_loss"
   ]
  },
  {
   "cell_type": "markdown",
   "id": "76a3aae6",
   "metadata": {},
   "source": [
    "### Load the trained model"
   ]
  },
  {
   "cell_type": "code",
   "execution_count": null,
   "id": "d2661734",
   "metadata": {},
   "outputs": [],
   "source": [
    "model = ConvRNN(n_classes)\n",
    "model.load_state_dict(torch.load(model_path, \n",
    "                                map_location=torch.device('cpu')))\n",
    "\n",
    "# Set model mode to evaluation\n",
    "model.eval()"
   ]
  },
  {
   "cell_type": "markdown",
   "id": "919b7c24",
   "metadata": {},
   "source": [
    "# Prediction"
   ]
  },
  {
   "cell_type": "markdown",
   "id": "472aca06",
   "metadata": {},
   "source": [
    "### Pick a test image"
   ]
  },
  {
   "cell_type": "code",
   "execution_count": null,
   "id": "d222e9ba",
   "metadata": {},
   "outputs": [],
   "source": [
    "test_img = os.path.join(image_path, \"00000017.jpg\")\n",
    "img = cv2.imread(test_img)"
   ]
  },
  {
   "cell_type": "code",
   "execution_count": null,
   "id": "763f6de1",
   "metadata": {},
   "outputs": [],
   "source": [
    "plt.imshow(plt.imread(test_img))\n",
    "plt.show()"
   ]
  },
  {
   "cell_type": "markdown",
   "id": "23988bb9",
   "metadata": {},
   "source": [
    "### Apply augmentations"
   ]
  },
  {
   "cell_type": "code",
   "execution_count": null,
   "id": "2d8201cd",
   "metadata": {},
   "outputs": [],
   "source": [
    "mean = (0.485, 0.456, 0.406)\n",
    "std = (0.229, 0.224, 0.225)\n",
    "img_aug = albumentations.Compose(\n",
    "        [albumentations.Normalize(mean, std,\n",
    "                                  max_pixel_value=255.0,\n",
    "                                  always_apply=True)]\n",
    "    )\n",
    "augmented = img_aug(image=img)\n",
    "img = augmented[\"image\"]\n",
    "img = img.transpose(2, 0, 1)\n",
    "img = torch.from_numpy(img)\n",
    "# Create batch dimension (batch of single image)\n",
    "img = torch.unsqueeze(img, 0)\n",
    "# Move the image array to CUDA if available\n",
    "img = img.to(device)"
   ]
  },
  {
   "cell_type": "markdown",
   "id": "14686e1f",
   "metadata": {},
   "source": [
    "### Take model output"
   ]
  },
  {
   "cell_type": "code",
   "execution_count": null,
   "id": "35427453",
   "metadata": {},
   "outputs": [],
   "source": [
    "out = model(img)"
   ]
  },
  {
   "cell_type": "markdown",
   "id": "6f137d97",
   "metadata": {},
   "source": [
    "### Apply softmax and take label predictions"
   ]
  },
  {
   "cell_type": "code",
   "execution_count": null,
   "id": "0b3fd42f",
   "metadata": {},
   "outputs": [],
   "source": [
    "out = torch.squeeze(out, 0)\n",
    "out = out.softmax(1)\n",
    "pred = torch.argmax(out, 1)"
   ]
  },
  {
   "cell_type": "code",
   "execution_count": null,
   "id": "fbb549d0",
   "metadata": {},
   "outputs": [],
   "source": [
    "pred.shape"
   ]
  },
  {
   "cell_type": "code",
   "execution_count": null,
   "id": "0cf2c4d4",
   "metadata": {},
   "outputs": [],
   "source": [
    "pred = pred.tolist()"
   ]
  },
  {
   "cell_type": "code",
   "execution_count": null,
   "id": "ae45a1d4",
   "metadata": {},
   "outputs": [],
   "source": [
    "pred"
   ]
  },
  {
   "cell_type": "code",
   "execution_count": null,
   "id": "97b8571e",
   "metadata": {},
   "outputs": [],
   "source": [
    "int2char[75]"
   ]
  },
  {
   "cell_type": "markdown",
   "id": "7256b419",
   "metadata": {},
   "source": [
    "### Use 'ph' for special character"
   ]
  },
  {
   "cell_type": "code",
   "execution_count": null,
   "id": "edc4033e",
   "metadata": {},
   "outputs": [],
   "source": [
    "int2char[0] = \"ph\""
   ]
  },
  {
   "cell_type": "markdown",
   "id": "97aa70ad",
   "metadata": {},
   "source": [
    "### Convert integer predictions to string"
   ]
  },
  {
   "cell_type": "code",
   "execution_count": null,
   "id": "f3aa5192",
   "metadata": {},
   "outputs": [],
   "source": [
    "out = [int2char[i] for i in pred]"
   ]
  },
  {
   "cell_type": "code",
   "execution_count": null,
   "id": "aa5cca0b",
   "metadata": {},
   "outputs": [],
   "source": [
    "out"
   ]
  },
  {
   "cell_type": "markdown",
   "id": "1c116074",
   "metadata": {},
   "source": [
    "### Collapse the output"
   ]
  },
  {
   "cell_type": "code",
   "execution_count": null,
   "id": "7c443674",
   "metadata": {},
   "outputs": [],
   "source": [
    "res = list()\n",
    "res.append(out[0])\n",
    "for i in range(1, len(out)):\n",
    "    if out[i] != out[i - 1]:\n",
    "        res.append(out[i])\n",
    "res = [i for i in res if i != \"ph\"]\n",
    "res = \"\".join(res)"
   ]
  },
  {
   "cell_type": "code",
   "execution_count": null,
   "id": "3297b97d",
   "metadata": {},
   "outputs": [],
   "source": [
    "print(res)"
   ]
  },
  {
   "cell_type": "code",
   "execution_count": null,
   "id": "8dcc5fae",
   "metadata": {},
   "outputs": [],
   "source": []
  }
 ],
 "metadata": {
  "kernelspec": {
   "display_name": "Python 3",
   "language": "python",
   "name": "python3"
  },
  "language_info": {
   "codemirror_mode": {
    "name": "ipython",
    "version": 3
   },
   "file_extension": ".py",
   "mimetype": "text/x-python",
   "name": "python",
   "nbconvert_exporter": "python",
   "pygments_lexer": "ipython3",
   "version": "3.9.18"
  }
 },
 "nbformat": 4,
 "nbformat_minor": 5
}
